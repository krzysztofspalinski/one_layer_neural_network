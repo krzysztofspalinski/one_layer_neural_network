{
 "cells": [
  {
   "cell_type": "code",
   "execution_count": 1,
   "metadata": {},
   "outputs": [],
   "source": [
    "import numpy as np\n",
    "from neural_net import train_nn_binary_classifier, predict_nn_binary_classifier, normalize_data\n",
    "from sklearn import datasets\n",
    "from sklearn.metrics import accuracy_score\n",
    "from sklearn.model_selection import train_test_split"
   ]
  },
  {
   "cell_type": "markdown",
   "metadata": {},
   "source": [
    "# Importing dataset"
   ]
  },
  {
   "cell_type": "code",
   "execution_count": 2,
   "metadata": {},
   "outputs": [],
   "source": [
    "breast_cancer_data = datasets.load_breast_cancer()\n",
    "\n",
    "X = breast_cancer_data['data']\n",
    "Y = breast_cancer_data['target']\n",
    "\n",
    "X_train_orig, X_test_orig, Y_train_orig, Y_test_orig = train_test_split(X, Y, test_size=0.3)"
   ]
  },
  {
   "cell_type": "markdown",
   "metadata": {},
   "source": [
    "# Preparing dataset"
   ]
  },
  {
   "cell_type": "code",
   "execution_count": 3,
   "metadata": {},
   "outputs": [],
   "source": [
    "X_train = np.reshape(X_train_orig, (X_train_orig.shape[0], -1)).T\n",
    "X_test = np.reshape(X_test_orig, (X_test_orig.shape[0], -1)).T\n",
    "Y_train = np.reshape(Y_train_orig, (1, Y_train_orig.shape[0]))\n",
    "Y_test = np.reshape(Y_test_orig, (1, Y_test_orig.shape[0]))"
   ]
  },
  {
   "cell_type": "code",
   "execution_count": 4,
   "metadata": {},
   "outputs": [],
   "source": [
    "X_train, X_test = normalize_data(X_train, X_test)"
   ]
  },
  {
   "cell_type": "markdown",
   "metadata": {},
   "source": [
    "# Training neural network"
   ]
  },
  {
   "cell_type": "code",
   "execution_count": 7,
   "metadata": {},
   "outputs": [
    {
     "name": "stdout",
     "output_type": "stream",
     "text": [
      "Cost after 0 iteration: 0.7464269690089226\n",
      "Cost after 250 iteration: 0.12463793706713469\n",
      "Cost after 500 iteration: 0.08268894646942838\n",
      "Cost after 750 iteration: 0.06359360436356001\n",
      "Cost after 1000 iteration: 0.05258656375535944\n",
      "Final cost: 0.04542938524794684\n"
     ]
    },
    {
     "data": {
      "image/png": "[encoded data removed]",
      "text/plain": [
       "<Figure size 864x432 with 1 Axes>"
      ]
     },
     "metadata": {
      "needs_background": "light"
     },
     "output_type": "display_data"
    }
   ],
   "source": [
    "weights = train_nn_binary_classifier(X_train, Y_train, 10, 0.05, 1250)"
   ]
  },
  {
   "cell_type": "markdown",
   "metadata": {},
   "source": [
    "# Predictions on test set"
   ]
  },
  {
   "cell_type": "code",
   "execution_count": 6,
   "metadata": {},
   "outputs": [
    {
     "name": "stdout",
     "output_type": "stream",
     "text": [
      "0.9590643274853801\n"
     ]
    }
   ],
   "source": [
    "Y_hat_test_proba, cache = predict_nn_binary_classifier(X_test, weights)\n",
    "\n",
    "Y_hat_test = np.zeros(Y_hat_test_proba.shape)\n",
    "Y_hat_test[Y_hat_test_proba > 0.5] = 1\n",
    "\n",
    "print(accuracy_score(np.ravel(Y_hat_test), np.ravel(Y_test)))"
   ]
  }
 ],
 "metadata": {
  "kernelspec": {
   "display_name": "Python (ml-cpu)",
   "language": "python",
   "name": "ml-cpu"
  },
  "language_info": {
   "codemirror_mode": {
    "name": "ipython",
    "version": 3
   },
   "file_extension": ".py",
   "mimetype": "text/x-python",
   "name": "python",
   "nbconvert_exporter": "python",
   "pygments_lexer": "ipython3",
   "version": "3.6.8"
  }
 },
 "nbformat": 4,
 "nbformat_minor": 2
}
